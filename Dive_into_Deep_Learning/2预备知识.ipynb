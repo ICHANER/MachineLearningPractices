{
 "cells": [
  {
   "cell_type": "code",
   "execution_count": 1,
   "id": "initial_id",
   "metadata": {
    "collapsed": true,
    "ExecuteTime": {
     "end_time": "2024-01-28T01:29:16.255581Z",
     "start_time": "2024-01-28T01:29:11.901605Z"
    }
   },
   "outputs": [],
   "source": [
    "import torch"
   ]
  },
  {
   "cell_type": "code",
   "execution_count": 6,
   "outputs": [
    {
     "name": "stdout",
     "output_type": "stream",
     "text": [
      "tensor([ 0,  1,  2,  3,  4,  5,  6,  7,  8,  9, 10, 11])\n",
      "torch.Size([12])\n",
      "12\n"
     ]
    }
   ],
   "source": [
    "x = torch.arange(12)\n",
    "print(x)\n",
    "print(x.shape)\n",
    "print(x.numel())"
   ],
   "metadata": {
    "collapsed": false,
    "ExecuteTime": {
     "end_time": "2024-01-28T01:30:16.597275Z",
     "start_time": "2024-01-28T01:30:16.591326Z"
    }
   },
   "id": "b6c850e010907d94"
  },
  {
   "cell_type": "code",
   "execution_count": 8,
   "outputs": [
    {
     "name": "stdout",
     "output_type": "stream",
     "text": [
      "tensor([[ 0,  1,  2,  3],\n",
      "        [ 4,  5,  6,  7],\n",
      "        [ 8,  9, 10, 11]])\n"
     ]
    }
   ],
   "source": [
    "X = x.reshape(3,4)\n",
    "print(X)"
   ],
   "metadata": {
    "collapsed": false,
    "ExecuteTime": {
     "end_time": "2024-01-28T01:31:25.376897Z",
     "start_time": "2024-01-28T01:31:25.368881Z"
    }
   },
   "id": "3c35c887339350a4"
  },
  {
   "cell_type": "code",
   "execution_count": 12,
   "outputs": [
    {
     "data": {
      "text/plain": "tensor([[[0., 0., 0.],\n         [0., 0., 0.],\n         [0., 0., 0.]],\n\n        [[0., 0., 0.],\n         [0., 0., 0.],\n         [0., 0., 0.]]])"
     },
     "execution_count": 12,
     "metadata": {},
     "output_type": "execute_result"
    }
   ],
   "source": [
    "torch.zeros(2,3,3)"
   ],
   "metadata": {
    "collapsed": false,
    "ExecuteTime": {
     "end_time": "2024-01-28T01:31:54.140575Z",
     "start_time": "2024-01-28T01:31:54.134712Z"
    }
   },
   "id": "542d16a7be2d6051"
  },
  {
   "cell_type": "code",
   "execution_count": 13,
   "outputs": [
    {
     "data": {
      "text/plain": "tensor([[-0.7213,  0.6363,  0.8618,  0.9637],\n        [-0.2665, -1.6698, -0.5074,  1.9321],\n        [ 0.6017, -1.8173, -0.6905,  0.7957]])"
     },
     "execution_count": 13,
     "metadata": {},
     "output_type": "execute_result"
    }
   ],
   "source": [
    "# 创建一个形状为（3,4）的张量。 其中的每个元素都从均值为0、标准差为1的标准高斯分布（正态分布）中随机采样。\n",
    "torch.randn(3,4)"
   ],
   "metadata": {
    "collapsed": false,
    "ExecuteTime": {
     "end_time": "2024-01-28T01:32:27.846787Z",
     "start_time": "2024-01-28T01:32:27.839597Z"
    }
   },
   "id": "4d17f9bd0799e431"
  },
  {
   "cell_type": "code",
   "execution_count": 15,
   "outputs": [
    {
     "name": "stdout",
     "output_type": "stream",
     "text": [
      "tensor([ 0,  1,  2,  3,  4,  5,  6,  7,  8,  9, 10, 11])\n"
     ]
    }
   ],
   "source": [
    "print(x)"
   ],
   "metadata": {
    "collapsed": false,
    "ExecuteTime": {
     "end_time": "2024-01-28T01:32:55.390270Z",
     "start_time": "2024-01-28T01:32:55.380047Z"
    }
   },
   "id": "3f86befbb352a05d"
  },
  {
   "cell_type": "code",
   "execution_count": 16,
   "outputs": [
    {
     "name": "stdout",
     "output_type": "stream",
     "text": [
      "tensor([1, 2])\n"
     ]
    }
   ],
   "source": [
    "print(x[1:3])  #切片"
   ],
   "metadata": {
    "collapsed": false,
    "ExecuteTime": {
     "end_time": "2024-01-28T01:33:04.395511Z",
     "start_time": "2024-01-28T01:33:04.390424Z"
    }
   },
   "id": "87702ea7a74f8582"
  },
  {
   "cell_type": "code",
   "execution_count": 22,
   "outputs": [
    {
     "name": "stdout",
     "output_type": "stream",
     "text": [
      "5184572112\n",
      "5182502096\n",
      "id(Z): 5182504112\n",
      "id(Z): 5182504112\n"
     ]
    }
   ],
   "source": [
    "print(id(X))\n",
    "X = X+torch.ones(X.shape)\n",
    "print(id(X))\n",
    "# 易发现，内存变化了。\n",
    "# 执行原地操作非常简单，可以使用切片表示法将操作的结果分配给先前分配的数组，例如Y[:] = <expression>\n",
    "Z = torch.zeros_like(X)\n",
    "print('id(Z):',id(Z))\n",
    "Z[:] = X + torch.zeros_like(X)\n",
    "print(\"id(Z):\",id(Z))"
   ],
   "metadata": {
    "collapsed": false,
    "ExecuteTime": {
     "end_time": "2024-01-28T01:38:35.583144Z",
     "start_time": "2024-01-28T01:38:35.574151Z"
    }
   },
   "id": "7417fcc1af172302"
  },
  {
   "cell_type": "code",
   "execution_count": 24,
   "outputs": [
    {
     "data": {
      "text/plain": "(numpy.ndarray, torch.Tensor)"
     },
     "execution_count": 24,
     "metadata": {},
     "output_type": "execute_result"
    }
   ],
   "source": [
    "# numpy 与张量互相转换\n",
    "A = X.numpy()\n",
    "B = torch.tensor(A)\n",
    "type(A),type(B)"
   ],
   "metadata": {
    "collapsed": false,
    "ExecuteTime": {
     "end_time": "2024-01-28T01:39:29.304359Z",
     "start_time": "2024-01-28T01:39:29.300348Z"
    }
   },
   "id": "3a6d49fd58cc0735"
  },
  {
   "cell_type": "code",
   "execution_count": 25,
   "outputs": [
    {
     "data": {
      "text/plain": "(tensor([3.5000]), 3.5, 3.5, 3)"
     },
     "execution_count": 25,
     "metadata": {},
     "output_type": "execute_result"
    }
   ],
   "source": [
    "a = torch.tensor([3.5])\n",
    "a, a.item(), float(a), int(a)"
   ],
   "metadata": {
    "collapsed": false,
    "ExecuteTime": {
     "end_time": "2024-01-28T01:39:56.312134Z",
     "start_time": "2024-01-28T01:39:56.305006Z"
    }
   },
   "id": "36479b3a006eab98"
  },
  {
   "cell_type": "markdown",
   "source": [
    "# 2.2 数据预处理"
   ],
   "metadata": {
    "collapsed": false
   },
   "id": "c1c1984d10631e79"
  },
  {
   "cell_type": "code",
   "execution_count": 26,
   "outputs": [],
   "source": [
    "# 读取数据集\n",
    "import os\n",
    "\n",
    "os.makedirs(os.path.join('..', 'data'), exist_ok=True)\n",
    "data_file = os.path.join('..', 'data', 'house_tiny.csv')\n",
    "with open(data_file, 'w') as f:\n",
    "    f.write('NumRooms,Alley,Price\\n')  # 列名\n",
    "    f.write('NA,Pave,127500\\n')  # 每行表示一个数据样本\n",
    "    f.write('2,NA,106000\\n')\n",
    "    f.write('4,NA,178100\\n')\n",
    "    f.write('NA,NA,140000\\n')"
   ],
   "metadata": {
    "collapsed": false,
    "ExecuteTime": {
     "end_time": "2024-01-28T02:10:32.573232Z",
     "start_time": "2024-01-28T02:10:32.567437Z"
    }
   },
   "id": "7249bc5d9ec41a21"
  },
  {
   "cell_type": "code",
   "execution_count": 33,
   "outputs": [
    {
     "name": "stdout",
     "output_type": "stream",
     "text": [
      "   NumRooms Alley   Price\n",
      "0       NaN  Pave  127500\n",
      "1       2.0   NaN  106000\n",
      "2       4.0   NaN  178100\n",
      "3       NaN   NaN  140000\n",
      "\n",
      "(4, 3)\n",
      "[[nan 'Pave' 127500]\n",
      " [2.0 nan 106000]\n",
      " [4.0 nan 178100]\n",
      " [nan nan 140000]]\n"
     ]
    }
   ],
   "source": [
    "import pandas as pd\n",
    "\n",
    "data = pd.read_csv(data_file)\n",
    "print(data,end='\\n\\n')\n",
    "print(data.shape)\n",
    "print(data.values)"
   ],
   "metadata": {
    "collapsed": false,
    "ExecuteTime": {
     "end_time": "2024-01-29T03:38:04.171498Z",
     "start_time": "2024-01-29T03:38:04.165385Z"
    }
   },
   "id": "5c8a60f8a74ad9a6"
  },
  {
   "cell_type": "code",
   "execution_count": 78,
   "outputs": [
    {
     "name": "stdout",
     "output_type": "stream",
     "text": [
      "   NumRooms Alley\n",
      "0       3.0  Pave\n",
      "1       2.0   NaN\n",
      "2       4.0   NaN\n",
      "3       3.0   NaN\n"
     ]
    }
   ],
   "source": [
    "inputs, outputs = data.iloc[:, 0:2], data.iloc[:, 2]\n",
    "numeric_inputs = data.select_dtypes(include='number')\n",
    "mean_value = numeric_inputs.mean()\n",
    "inputs = inputs.fillna(mean_value)\n",
    "print(inputs)"
   ],
   "metadata": {
    "collapsed": false,
    "ExecuteTime": {
     "end_time": "2024-01-29T03:59:10.276037Z",
     "start_time": "2024-01-29T03:59:10.267732Z"
    }
   },
   "id": "ffdfcd3a5c221c3c"
  },
  {
   "cell_type": "code",
   "execution_count": null,
   "outputs": [],
   "source": [],
   "metadata": {
    "collapsed": false
   },
   "id": "f0e72b0188a5e9ff"
  },
  {
   "cell_type": "code",
   "execution_count": null,
   "outputs": [],
   "source": [],
   "metadata": {
    "collapsed": false
   },
   "id": "eaca4793f403093"
  },
  {
   "cell_type": "code",
   "execution_count": null,
   "outputs": [],
   "source": [],
   "metadata": {
    "collapsed": false
   },
   "id": "6c77fc466dd7299"
  },
  {
   "cell_type": "code",
   "execution_count": null,
   "outputs": [],
   "source": [],
   "metadata": {
    "collapsed": false
   },
   "id": "ee7288e162543f03"
  },
  {
   "cell_type": "code",
   "execution_count": null,
   "outputs": [],
   "source": [],
   "metadata": {
    "collapsed": false
   },
   "id": "361e89c9f7a85cdd"
  }
 ],
 "metadata": {
  "kernelspec": {
   "display_name": "Python 3",
   "language": "python",
   "name": "python3"
  },
  "language_info": {
   "codemirror_mode": {
    "name": "ipython",
    "version": 2
   },
   "file_extension": ".py",
   "mimetype": "text/x-python",
   "name": "python",
   "nbconvert_exporter": "python",
   "pygments_lexer": "ipython2",
   "version": "2.7.6"
  }
 },
 "nbformat": 4,
 "nbformat_minor": 5
}
