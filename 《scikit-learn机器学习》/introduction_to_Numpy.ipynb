{
 "cells": [
  {
   "cell_type": "markdown",
   "source": [
    "本文件夹下的开发环境均为Mac-M1，PyCharm2023，Anaconda3"
   ],
   "metadata": {
    "collapsed": false
   },
   "id": "37096be691d3f3bf"
  },
  {
   "cell_type": "markdown",
   "source": [
    "# 先进行Numpy的学习"
   ],
   "metadata": {
    "collapsed": false
   },
   "id": "753bf298ca4f3fd8"
  },
  {
   "cell_type": "code",
   "execution_count": 4,
   "outputs": [
    {
     "name": "stdout",
     "output_type": "stream",
     "text": [
      "[1 2 3 4]\n",
      "[[1 2]\n",
      " [3 4]\n",
      " [5 6]]\n"
     ]
    }
   ],
   "source": [
    "import numpy as np\n",
    "a = np.array([1,2,3,4])\n",
    "print(a)\n",
    "b = np.array([[1,2],[3,4],[5,6]])\n",
    "print(b)"
   ],
   "metadata": {
    "collapsed": false,
    "ExecuteTime": {
     "end_time": "2024-01-17T16:52:15.172534Z",
     "start_time": "2024-01-17T16:52:15.036994Z"
    }
   },
   "id": "d4bbe52b30ba860"
  },
  {
   "cell_type": "code",
   "execution_count": 5,
   "outputs": [
    {
     "name": "stdout",
     "output_type": "stream",
     "text": [
      "1\n",
      "2\n",
      "(4,)\n",
      "(3, 2)\n",
      "int64\n",
      "int64\n"
     ]
    }
   ],
   "source": [
    "# ndim属性查看numpy数组维度\n",
    "print(a.ndim)\n",
    "print(b.ndim)\n",
    "# shape属性查看numpy数组形状\n",
    "print(a.shape)\n",
    "print(b.shape)\n",
    "# dtype属性查看numpy数组类型\n",
    "print(a.dtype)\n",
    "print(b.dtype)"
   ],
   "metadata": {
    "collapsed": false,
    "ExecuteTime": {
     "end_time": "2024-01-17T16:52:15.177425Z",
     "start_time": "2024-01-17T16:52:15.172441Z"
    }
   },
   "id": "2bca7b05d2aa5ec3"
  },
  {
   "cell_type": "code",
   "execution_count": 6,
   "id": "initial_id",
   "metadata": {
    "collapsed": true,
    "ExecuteTime": {
     "end_time": "2024-01-17T16:52:15.182849Z",
     "start_time": "2024-01-17T16:52:15.176599Z"
    }
   },
   "outputs": [
    {
     "name": "stdout",
     "output_type": "stream",
     "text": [
      "[0 1 2 3 4 5 6 7 8 9]\n"
     ]
    }
   ],
   "source": [
    "c=np.arange(10)\n",
    "print(c)"
   ]
  },
  {
   "cell_type": "code",
   "execution_count": 7,
   "outputs": [
    {
     "name": "stdout",
     "output_type": "stream",
     "text": [
      "[0.  0.2 0.4 0.6 0.8 1.  1.2 1.4 1.6 1.8 2. ]\n"
     ]
    }
   ],
   "source": [
    "d=np.linspace(0,2,11)  #[0,2]被分成11等份\n",
    "print(d)"
   ],
   "metadata": {
    "collapsed": false,
    "ExecuteTime": {
     "end_time": "2024-01-17T16:52:15.192493Z",
     "start_time": "2024-01-17T16:52:15.183385Z"
    }
   },
   "id": "d6ee0daca66df473"
  },
  {
   "cell_type": "code",
   "execution_count": 8,
   "outputs": [
    {
     "name": "stdout",
     "output_type": "stream",
     "text": [
      "[[1. 1. 1.]\n",
      " [1. 1. 1.]\n",
      " [1. 1. 1.]]\n",
      "[[0. 0. 0.]\n",
      " [0. 0. 0.]\n",
      " [0. 0. 0.]]\n",
      "[[1. 0. 0.]\n",
      " [0. 1. 0.]\n",
      " [0. 0. 1.]]\n"
     ]
    }
   ],
   "source": [
    "e = np.ones((3,3))\n",
    "print (e)\n",
    "f = np.zeros((3,3))\n",
    "print (f)\n",
    "g = np.eye(3)\n",
    "print (g)"
   ],
   "metadata": {
    "collapsed": false,
    "ExecuteTime": {
     "end_time": "2024-01-17T16:52:15.289649Z",
     "start_time": "2024-01-17T16:52:15.197324Z"
    }
   },
   "id": "5d7871c6b34e9ee8"
  },
  {
   "cell_type": "code",
   "execution_count": 9,
   "outputs": [
    {
     "name": "stdout",
     "output_type": "stream",
     "text": [
      "[[-0.11808501 -0.27208862 -0.19798472]\n",
      " [ 1.17097244 -0.30092972 -1.05516431]\n",
      " [ 0.95741412  1.38218005 -1.15906491]]\n",
      "[17 14 13 15 19 16]\n",
      "[[0.06799353 0.05189722 0.39565245]\n",
      " [0.21733946 0.27253145 0.46328512]\n",
      " [0.21901024 0.75669662 0.65494537]]\n"
     ]
    }
   ],
   "source": [
    "h = np.random.randn(3,3)  #randn是产生符合正态分布N(0,1)的数\n",
    "print(h)\n",
    "i = np.random.randint(10,20,6)  #在[10,20)内产生6个随机数\n",
    "print(i)\n",
    "j = np.random.rand(3,3)   #rand是产生[0,1)的数\n",
    "print(j)"
   ],
   "metadata": {
    "collapsed": false,
    "ExecuteTime": {
     "end_time": "2024-01-17T16:52:15.290812Z",
     "start_time": "2024-01-17T16:52:15.209817Z"
    }
   },
   "id": "fb4f6710db640f88"
  },
  {
   "cell_type": "code",
   "execution_count": 10,
   "outputs": [
    {
     "name": "stdout",
     "output_type": "stream",
     "text": [
      "[[-0.00802902 -0.01412064 -0.07833314]\n",
      " [ 0.25449852 -0.08201281 -0.48884192]\n",
      " [ 0.2096835   1.04589097 -0.7591242 ]]\n",
      "[[-0.11052529 -0.23009536 -0.30244441]\n",
      " [-0.21687714 -0.81968186 -0.36719313]\n",
      " [ 0.11165315 -0.45068584  0.26002249]]\n"
     ]
    }
   ],
   "source": [
    "k =h * j      #矩阵对应元素相乘\n",
    "print(k)\n",
    "l=np.dot(h,j)  #矩阵内积\n",
    "print(l)"
   ],
   "metadata": {
    "collapsed": false,
    "ExecuteTime": {
     "end_time": "2024-01-17T16:52:15.291003Z",
     "start_time": "2024-01-17T16:52:15.242643Z"
    }
   },
   "id": "49b06c287b1e655a"
  },
  {
   "cell_type": "code",
   "execution_count": 24,
   "outputs": [
    {
     "name": "stdout",
     "output_type": "stream",
     "text": [
      "[ 2.01030156  0.80916171 -2.41221395] [-0.58815836 -0.18512159  1.18052926] 0.40724931648715024\n",
      "最大值： -2.4122139465663706\n",
      "最小值 2.01030155611415\n",
      "argumentMin: 2\n",
      "std: 1.8672213881036261\n",
      "0.8456842084072672 0.1060763790228724\n",
      "0.9999520626337722 -0.0003165189203324804\n"
     ]
    }
   ],
   "source": [
    "#axis表示坐标轴，0表示按行计算，1表示按列计算\n",
    "m = h.sum(axis=0)\n",
    "n = h.sum(axis=1)\n",
    "o = h.sum()\n",
    "print(m,n,o)\n",
    "print('最大值：',m.min())\n",
    "print('最小值',m.max())\n",
    "print('argumentMin:', m.argmin())  #argmin表示使目标函数f(x)取最小值时的变量值\n",
    "print('std:',m.std())\n",
    "\n",
    "p = np.random.randn(10) #会发现，数据量越大，越符合N(0,1)的正态分布\n",
    "print(p.std(),p.mean())\n",
    "q = np.random.randn(20000000) #会发现，数据量越大，越符合N(0,1)的正态分布\n",
    "print(q.std(),q.mean())"
   ],
   "metadata": {
    "collapsed": false,
    "ExecuteTime": {
     "end_time": "2024-01-17T17:04:07.499435Z",
     "start_time": "2024-01-17T17:04:07.144123Z"
    }
   },
   "id": "78f2b3d6be5b21ce"
  },
  {
   "cell_type": "code",
   "execution_count": 11,
   "outputs": [],
   "source": [
    "# 留一个随机漫步算法作为后期提高\n",
    "\n"
   ],
   "metadata": {
    "collapsed": false,
    "ExecuteTime": {
     "end_time": "2024-01-17T16:52:15.291789Z",
     "start_time": "2024-01-17T16:52:15.275522Z"
    }
   },
   "id": "54140f547c0b2f0"
  }
 ],
 "metadata": {
  "kernelspec": {
   "display_name": "Python 3",
   "language": "python",
   "name": "python3"
  },
  "language_info": {
   "codemirror_mode": {
    "name": "ipython",
    "version": 2
   },
   "file_extension": ".py",
   "mimetype": "text/x-python",
   "name": "python",
   "nbconvert_exporter": "python",
   "pygments_lexer": "ipython2",
   "version": "2.7.6"
  }
 },
 "nbformat": 4,
 "nbformat_minor": 5
}
