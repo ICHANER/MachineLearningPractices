{
 "cells": [
  {
   "cell_type": "code",
   "execution_count": 1,
   "id": "initial_id",
   "metadata": {
    "collapsed": true,
    "ExecuteTime": {
     "end_time": "2024-01-17T17:09:03.566846Z",
     "start_time": "2024-01-17T17:09:03.011891Z"
    }
   },
   "outputs": [],
   "source": [
    "# 导入pandas库\n",
    "import pandas as pd"
   ]
  },
  {
   "cell_type": "code",
   "execution_count": 3,
   "outputs": [
    {
     "name": "stdout",
     "output_type": "stream",
     "text": [
      "0    1\n",
      "1    2\n",
      "2    3\n",
      "3    4\n",
      "4    5\n",
      "dtype: int64\n"
     ]
    }
   ],
   "source": [
    "# Pandas最基础的数据结构是Series，用来表达一行数据，可理解为一维数组\n",
    "a = pd.Series([1,2,3,4,5])\n",
    "print(a)"
   ],
   "metadata": {
    "collapsed": false,
    "ExecuteTime": {
     "end_time": "2024-01-17T17:15:47.446105Z",
     "start_time": "2024-01-17T17:15:47.435916Z"
    }
   },
   "id": "b4104dfe36667aa"
  },
  {
   "cell_type": "code",
   "execution_count": 6,
   "outputs": [
    {
     "name": "stdout",
     "output_type": "stream",
     "text": [
      "          A         B         C         D\n",
      "0  1.229850  0.432930  1.191666 -0.956145\n",
      "1 -0.045065 -1.886596  1.654735  1.707580\n",
      "2  1.322683  0.731660  0.924832  1.218540\n",
      "3 -1.039336  1.870142  1.578385  0.325420\n",
      "4 -0.114580 -0.872958 -0.079647  0.153064\n",
      "5 -0.371607 -0.540762  0.071397 -1.037617\n",
      "[[ 1.22985029  0.43293036  1.19166619 -0.95614549]\n",
      " [-0.04506463 -1.88659559  1.65473498  1.70758004]\n",
      " [ 1.32268328  0.73165994  0.92483198  1.21854016]\n",
      " [-1.03933618  1.87014204  1.57838469  0.3254195 ]\n",
      " [-0.11458039 -0.87295823 -0.07964704  0.15306435]\n",
      " [-0.37160656 -0.54076167  0.07139739 -1.03761697]]\n"
     ]
    }
   ],
   "source": [
    "# Pandas另一个关键的数据结构为DataFrame，表示的是二维数组。\n",
    "# DataFrame中的数据实际是用Numpy的array对象来保存的\n",
    "import numpy as np\n",
    "df = pd.DataFrame(np.random.randn(6,4), columns=list('ABCD'))\n",
    "print(df)\n",
    "print(df.values) # 查看原始数据"
   ],
   "metadata": {
    "collapsed": false,
    "ExecuteTime": {
     "end_time": "2024-01-17T17:26:13.302124Z",
     "start_time": "2024-01-17T17:26:13.299858Z"
    }
   },
   "id": "a5cb08dc69fe8361"
  },
  {
   "cell_type": "code",
   "execution_count": 9,
   "outputs": [
    {
     "name": "stdout",
     "output_type": "stream",
     "text": [
      "A    1.229850\n",
      "B    0.432930\n",
      "C    1.191666\n",
      "D   -0.956145\n",
      "Name: 0, dtype: float64\n",
      "0    1.229850\n",
      "1   -0.045065\n",
      "2    1.322683\n",
      "3   -1.039336\n",
      "4   -0.114580\n",
      "5   -0.371607\n",
      "Name: A, dtype: float64\n"
     ]
    }
   ],
   "source": [
    "print(df.iloc[0])  #行索引\n",
    "print(df.A)  #列索引"
   ],
   "metadata": {
    "collapsed": false,
    "ExecuteTime": {
     "end_time": "2024-01-17T17:34:26.969027Z",
     "start_time": "2024-01-17T17:34:26.966866Z"
    }
   },
   "id": "da10ef7a0a3a4b65"
  },
  {
   "cell_type": "code",
   "execution_count": 10,
   "outputs": [
    {
     "data": {
      "text/plain": "(6, 4)"
     },
     "execution_count": 10,
     "metadata": {},
     "output_type": "execute_result"
    }
   ],
   "source": [
    "df.shape"
   ],
   "metadata": {
    "collapsed": false,
    "ExecuteTime": {
     "end_time": "2024-01-21T16:18:01.548199Z",
     "start_time": "2024-01-21T16:18:01.546910Z"
    }
   },
   "id": "5bd4a798b6130dd2"
  },
  {
   "cell_type": "code",
   "execution_count": 11,
   "outputs": [
    {
     "data": {
      "text/plain": "          A         B         C         D\n0  1.229850  0.432930  1.191666 -0.956145\n1 -0.045065 -1.886596  1.654735  1.707580\n2  1.322683  0.731660  0.924832  1.218540\n3 -1.039336  1.870142  1.578385  0.325420\n4 -0.114580 -0.872958 -0.079647  0.153064",
      "text/html": "<div>\n<style scoped>\n    .dataframe tbody tr th:only-of-type {\n        vertical-align: middle;\n    }\n\n    .dataframe tbody tr th {\n        vertical-align: top;\n    }\n\n    .dataframe thead th {\n        text-align: right;\n    }\n</style>\n<table border=\"1\" class=\"dataframe\">\n  <thead>\n    <tr style=\"text-align: right;\">\n      <th></th>\n      <th>A</th>\n      <th>B</th>\n      <th>C</th>\n      <th>D</th>\n    </tr>\n  </thead>\n  <tbody>\n    <tr>\n      <th>0</th>\n      <td>1.229850</td>\n      <td>0.432930</td>\n      <td>1.191666</td>\n      <td>-0.956145</td>\n    </tr>\n    <tr>\n      <th>1</th>\n      <td>-0.045065</td>\n      <td>-1.886596</td>\n      <td>1.654735</td>\n      <td>1.707580</td>\n    </tr>\n    <tr>\n      <th>2</th>\n      <td>1.322683</td>\n      <td>0.731660</td>\n      <td>0.924832</td>\n      <td>1.218540</td>\n    </tr>\n    <tr>\n      <th>3</th>\n      <td>-1.039336</td>\n      <td>1.870142</td>\n      <td>1.578385</td>\n      <td>0.325420</td>\n    </tr>\n    <tr>\n      <th>4</th>\n      <td>-0.114580</td>\n      <td>-0.872958</td>\n      <td>-0.079647</td>\n      <td>0.153064</td>\n    </tr>\n  </tbody>\n</table>\n</div>"
     },
     "execution_count": 11,
     "metadata": {},
     "output_type": "execute_result"
    }
   ],
   "source": [
    "df.head()"
   ],
   "metadata": {
    "collapsed": false,
    "ExecuteTime": {
     "end_time": "2024-01-21T16:18:15.798938Z",
     "start_time": "2024-01-21T16:18:15.787653Z"
    }
   },
   "id": "12d9b631bb813af1"
  },
  {
   "cell_type": "code",
   "execution_count": 12,
   "outputs": [
    {
     "data": {
      "text/plain": "RangeIndex(start=0, stop=6, step=1)"
     },
     "execution_count": 12,
     "metadata": {},
     "output_type": "execute_result"
    }
   ],
   "source": [
    "df.index"
   ],
   "metadata": {
    "collapsed": false,
    "ExecuteTime": {
     "end_time": "2024-01-21T16:18:24.901341Z",
     "start_time": "2024-01-21T16:18:24.894542Z"
    }
   },
   "id": "62b5477cf4b9cbbf"
  },
  {
   "cell_type": "code",
   "execution_count": 13,
   "outputs": [
    {
     "data": {
      "text/plain": "Index(['A', 'B', 'C', 'D'], dtype='object')"
     },
     "execution_count": 13,
     "metadata": {},
     "output_type": "execute_result"
    }
   ],
   "source": [
    "df.columns"
   ],
   "metadata": {
    "collapsed": false,
    "ExecuteTime": {
     "end_time": "2024-01-21T16:18:48.772389Z",
     "start_time": "2024-01-21T16:18:48.764058Z"
    }
   },
   "id": "6673cf8cc09b5ea"
  },
  {
   "cell_type": "code",
   "execution_count": 14,
   "outputs": [
    {
     "data": {
      "text/plain": "              A         B         C         D\ncount  6.000000  6.000000  6.000000  6.000000\nmean   0.163658 -0.044264  0.890228  0.235140\nstd    0.931106  1.328319  0.743133  1.112575\nmin   -1.039336 -1.886596 -0.079647 -1.037617\n25%   -0.307350 -0.789909  0.284756 -0.678843\n50%   -0.079823 -0.053916  1.058249  0.239242\n75%    0.911122  0.656978  1.481705  0.995260\nmax    1.322683  1.870142  1.654735  1.707580",
      "text/html": "<div>\n<style scoped>\n    .dataframe tbody tr th:only-of-type {\n        vertical-align: middle;\n    }\n\n    .dataframe tbody tr th {\n        vertical-align: top;\n    }\n\n    .dataframe thead th {\n        text-align: right;\n    }\n</style>\n<table border=\"1\" class=\"dataframe\">\n  <thead>\n    <tr style=\"text-align: right;\">\n      <th></th>\n      <th>A</th>\n      <th>B</th>\n      <th>C</th>\n      <th>D</th>\n    </tr>\n  </thead>\n  <tbody>\n    <tr>\n      <th>count</th>\n      <td>6.000000</td>\n      <td>6.000000</td>\n      <td>6.000000</td>\n      <td>6.000000</td>\n    </tr>\n    <tr>\n      <th>mean</th>\n      <td>0.163658</td>\n      <td>-0.044264</td>\n      <td>0.890228</td>\n      <td>0.235140</td>\n    </tr>\n    <tr>\n      <th>std</th>\n      <td>0.931106</td>\n      <td>1.328319</td>\n      <td>0.743133</td>\n      <td>1.112575</td>\n    </tr>\n    <tr>\n      <th>min</th>\n      <td>-1.039336</td>\n      <td>-1.886596</td>\n      <td>-0.079647</td>\n      <td>-1.037617</td>\n    </tr>\n    <tr>\n      <th>25%</th>\n      <td>-0.307350</td>\n      <td>-0.789909</td>\n      <td>0.284756</td>\n      <td>-0.678843</td>\n    </tr>\n    <tr>\n      <th>50%</th>\n      <td>-0.079823</td>\n      <td>-0.053916</td>\n      <td>1.058249</td>\n      <td>0.239242</td>\n    </tr>\n    <tr>\n      <th>75%</th>\n      <td>0.911122</td>\n      <td>0.656978</td>\n      <td>1.481705</td>\n      <td>0.995260</td>\n    </tr>\n    <tr>\n      <th>max</th>\n      <td>1.322683</td>\n      <td>1.870142</td>\n      <td>1.654735</td>\n      <td>1.707580</td>\n    </tr>\n  </tbody>\n</table>\n</div>"
     },
     "execution_count": 14,
     "metadata": {},
     "output_type": "execute_result"
    }
   ],
   "source": [
    "df.describe()"
   ],
   "metadata": {
    "collapsed": false,
    "ExecuteTime": {
     "end_time": "2024-01-21T16:19:00.485460Z",
     "start_time": "2024-01-21T16:19:00.468878Z"
    }
   },
   "id": "780f08c6f22b4c7b"
  },
  {
   "cell_type": "code",
   "execution_count": 16,
   "outputs": [
    {
     "data": {
      "text/plain": "          D         C         B         A\n0 -0.956145  1.191666  0.432930  1.229850\n1  1.707580  1.654735 -1.886596 -0.045065\n2  1.218540  0.924832  0.731660  1.322683\n3  0.325420  1.578385  1.870142 -1.039336\n4  0.153064 -0.079647 -0.872958 -0.114580\n5 -1.037617  0.071397 -0.540762 -0.371607",
      "text/html": "<div>\n<style scoped>\n    .dataframe tbody tr th:only-of-type {\n        vertical-align: middle;\n    }\n\n    .dataframe tbody tr th {\n        vertical-align: top;\n    }\n\n    .dataframe thead th {\n        text-align: right;\n    }\n</style>\n<table border=\"1\" class=\"dataframe\">\n  <thead>\n    <tr style=\"text-align: right;\">\n      <th></th>\n      <th>D</th>\n      <th>C</th>\n      <th>B</th>\n      <th>A</th>\n    </tr>\n  </thead>\n  <tbody>\n    <tr>\n      <th>0</th>\n      <td>-0.956145</td>\n      <td>1.191666</td>\n      <td>0.432930</td>\n      <td>1.229850</td>\n    </tr>\n    <tr>\n      <th>1</th>\n      <td>1.707580</td>\n      <td>1.654735</td>\n      <td>-1.886596</td>\n      <td>-0.045065</td>\n    </tr>\n    <tr>\n      <th>2</th>\n      <td>1.218540</td>\n      <td>0.924832</td>\n      <td>0.731660</td>\n      <td>1.322683</td>\n    </tr>\n    <tr>\n      <th>3</th>\n      <td>0.325420</td>\n      <td>1.578385</td>\n      <td>1.870142</td>\n      <td>-1.039336</td>\n    </tr>\n    <tr>\n      <th>4</th>\n      <td>0.153064</td>\n      <td>-0.079647</td>\n      <td>-0.872958</td>\n      <td>-0.114580</td>\n    </tr>\n    <tr>\n      <th>5</th>\n      <td>-1.037617</td>\n      <td>0.071397</td>\n      <td>-0.540762</td>\n      <td>-0.371607</td>\n    </tr>\n  </tbody>\n</table>\n</div>"
     },
     "execution_count": 16,
     "metadata": {},
     "output_type": "execute_result"
    }
   ],
   "source": [
    "# 数据排序\n",
    "df.sort_index(axis=1,ascending=False)  #根据列名逆序排列"
   ],
   "metadata": {
    "collapsed": false,
    "ExecuteTime": {
     "end_time": "2024-01-21T16:21:00.829724Z",
     "start_time": "2024-01-21T16:21:00.815133Z"
    }
   },
   "id": "a0d79e341b9ad3b2"
  },
  {
   "cell_type": "code",
   "execution_count": 17,
   "outputs": [
    {
     "data": {
      "text/plain": "          A         B         C         D\n1 -0.045065 -1.886596  1.654735  1.707580\n4 -0.114580 -0.872958 -0.079647  0.153064\n5 -0.371607 -0.540762  0.071397 -1.037617\n0  1.229850  0.432930  1.191666 -0.956145\n2  1.322683  0.731660  0.924832  1.218540\n3 -1.039336  1.870142  1.578385  0.325420",
      "text/html": "<div>\n<style scoped>\n    .dataframe tbody tr th:only-of-type {\n        vertical-align: middle;\n    }\n\n    .dataframe tbody tr th {\n        vertical-align: top;\n    }\n\n    .dataframe thead th {\n        text-align: right;\n    }\n</style>\n<table border=\"1\" class=\"dataframe\">\n  <thead>\n    <tr style=\"text-align: right;\">\n      <th></th>\n      <th>A</th>\n      <th>B</th>\n      <th>C</th>\n      <th>D</th>\n    </tr>\n  </thead>\n  <tbody>\n    <tr>\n      <th>1</th>\n      <td>-0.045065</td>\n      <td>-1.886596</td>\n      <td>1.654735</td>\n      <td>1.707580</td>\n    </tr>\n    <tr>\n      <th>4</th>\n      <td>-0.114580</td>\n      <td>-0.872958</td>\n      <td>-0.079647</td>\n      <td>0.153064</td>\n    </tr>\n    <tr>\n      <th>5</th>\n      <td>-0.371607</td>\n      <td>-0.540762</td>\n      <td>0.071397</td>\n      <td>-1.037617</td>\n    </tr>\n    <tr>\n      <th>0</th>\n      <td>1.229850</td>\n      <td>0.432930</td>\n      <td>1.191666</td>\n      <td>-0.956145</td>\n    </tr>\n    <tr>\n      <th>2</th>\n      <td>1.322683</td>\n      <td>0.731660</td>\n      <td>0.924832</td>\n      <td>1.218540</td>\n    </tr>\n    <tr>\n      <th>3</th>\n      <td>-1.039336</td>\n      <td>1.870142</td>\n      <td>1.578385</td>\n      <td>0.325420</td>\n    </tr>\n  </tbody>\n</table>\n</div>"
     },
     "execution_count": 17,
     "metadata": {},
     "output_type": "execute_result"
    }
   ],
   "source": [
    "df.sort_values(by='B')  #根据B列的值进行排序"
   ],
   "metadata": {
    "collapsed": false,
    "ExecuteTime": {
     "end_time": "2024-01-21T16:21:34.375682Z",
     "start_time": "2024-01-21T16:21:34.352335Z"
    }
   },
   "id": "1211cfd2379062cf"
  },
  {
   "cell_type": "code",
   "execution_count": 18,
   "outputs": [
    {
     "data": {
      "text/plain": "          A         B         C         D\n3 -1.039336  1.870142  1.578385  0.325420\n4 -0.114580 -0.872958 -0.079647  0.153064",
      "text/html": "<div>\n<style scoped>\n    .dataframe tbody tr th:only-of-type {\n        vertical-align: middle;\n    }\n\n    .dataframe tbody tr th {\n        vertical-align: top;\n    }\n\n    .dataframe thead th {\n        text-align: right;\n    }\n</style>\n<table border=\"1\" class=\"dataframe\">\n  <thead>\n    <tr style=\"text-align: right;\">\n      <th></th>\n      <th>A</th>\n      <th>B</th>\n      <th>C</th>\n      <th>D</th>\n    </tr>\n  </thead>\n  <tbody>\n    <tr>\n      <th>3</th>\n      <td>-1.039336</td>\n      <td>1.870142</td>\n      <td>1.578385</td>\n      <td>0.325420</td>\n    </tr>\n    <tr>\n      <th>4</th>\n      <td>-0.114580</td>\n      <td>-0.872958</td>\n      <td>-0.079647</td>\n      <td>0.153064</td>\n    </tr>\n  </tbody>\n</table>\n</div>"
     },
     "execution_count": 18,
     "metadata": {},
     "output_type": "execute_result"
    }
   ],
   "source": [
    "df[3:5]"
   ],
   "metadata": {
    "collapsed": false,
    "ExecuteTime": {
     "end_time": "2024-01-21T16:22:13.331359Z",
     "start_time": "2024-01-21T16:22:13.318991Z"
    }
   },
   "id": "31d85c0dafa666ac"
  },
  {
   "cell_type": "code",
   "execution_count": 20,
   "outputs": [
    {
     "data": {
      "text/plain": "          A         D\n0  1.229850 -0.956145\n1 -0.045065  1.707580\n2  1.322683  1.218540\n3 -1.039336  0.325420\n4 -0.114580  0.153064\n5 -0.371607 -1.037617",
      "text/html": "<div>\n<style scoped>\n    .dataframe tbody tr th:only-of-type {\n        vertical-align: middle;\n    }\n\n    .dataframe tbody tr th {\n        vertical-align: top;\n    }\n\n    .dataframe thead th {\n        text-align: right;\n    }\n</style>\n<table border=\"1\" class=\"dataframe\">\n  <thead>\n    <tr style=\"text-align: right;\">\n      <th></th>\n      <th>A</th>\n      <th>D</th>\n    </tr>\n  </thead>\n  <tbody>\n    <tr>\n      <th>0</th>\n      <td>1.229850</td>\n      <td>-0.956145</td>\n    </tr>\n    <tr>\n      <th>1</th>\n      <td>-0.045065</td>\n      <td>1.707580</td>\n    </tr>\n    <tr>\n      <th>2</th>\n      <td>1.322683</td>\n      <td>1.218540</td>\n    </tr>\n    <tr>\n      <th>3</th>\n      <td>-1.039336</td>\n      <td>0.325420</td>\n    </tr>\n    <tr>\n      <th>4</th>\n      <td>-0.114580</td>\n      <td>0.153064</td>\n    </tr>\n    <tr>\n      <th>5</th>\n      <td>-0.371607</td>\n      <td>-1.037617</td>\n    </tr>\n  </tbody>\n</table>\n</div>"
     },
     "execution_count": 20,
     "metadata": {},
     "output_type": "execute_result"
    }
   ],
   "source": [
    "df[['A','D']]    # 存疑？？？"
   ],
   "metadata": {
    "collapsed": false,
    "ExecuteTime": {
     "end_time": "2024-01-21T16:22:45.764906Z",
     "start_time": "2024-01-21T16:22:45.758704Z"
    }
   },
   "id": "fcadb676c8209915"
  },
  {
   "cell_type": "code",
   "execution_count": null,
   "outputs": [],
   "source": [],
   "metadata": {
    "collapsed": false
   },
   "id": "c9843b00d20c6e75"
  }
 ],
 "metadata": {
  "kernelspec": {
   "display_name": "Python 3",
   "language": "python",
   "name": "python3"
  },
  "language_info": {
   "codemirror_mode": {
    "name": "ipython",
    "version": 2
   },
   "file_extension": ".py",
   "mimetype": "text/x-python",
   "name": "python",
   "nbconvert_exporter": "python",
   "pygments_lexer": "ipython2",
   "version": "2.7.6"
  }
 },
 "nbformat": 4,
 "nbformat_minor": 5
}
