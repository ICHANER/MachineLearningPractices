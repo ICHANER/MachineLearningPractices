{
 "cells": [
  {
   "cell_type": "code",
   "execution_count": 1,
   "id": "initial_id",
   "metadata": {
    "collapsed": true,
    "ExecuteTime": {
     "end_time": "2024-01-17T17:09:03.566846Z",
     "start_time": "2024-01-17T17:09:03.011891Z"
    }
   },
   "outputs": [],
   "source": [
    "import pandas as pd"
   ]
  },
  {
   "cell_type": "code",
   "execution_count": 3,
   "outputs": [
    {
     "name": "stdout",
     "output_type": "stream",
     "text": [
      "0    1\n",
      "1    2\n",
      "2    3\n",
      "3    4\n",
      "4    5\n",
      "dtype: int64\n"
     ]
    }
   ],
   "source": [
    "# Pandas最基础的数据结构是Series，用来表达一行数据，可理解为一维数组\n",
    "a = pd.Series([1,2,3,4,5])\n",
    "print(a)"
   ],
   "metadata": {
    "collapsed": false,
    "ExecuteTime": {
     "end_time": "2024-01-17T17:15:47.446105Z",
     "start_time": "2024-01-17T17:15:47.435916Z"
    }
   },
   "id": "b4104dfe36667aa"
  },
  {
   "cell_type": "code",
   "execution_count": 6,
   "outputs": [
    {
     "name": "stdout",
     "output_type": "stream",
     "text": [
      "          A         B         C         D\n",
      "0  1.229850  0.432930  1.191666 -0.956145\n",
      "1 -0.045065 -1.886596  1.654735  1.707580\n",
      "2  1.322683  0.731660  0.924832  1.218540\n",
      "3 -1.039336  1.870142  1.578385  0.325420\n",
      "4 -0.114580 -0.872958 -0.079647  0.153064\n",
      "5 -0.371607 -0.540762  0.071397 -1.037617\n",
      "[[ 1.22985029  0.43293036  1.19166619 -0.95614549]\n",
      " [-0.04506463 -1.88659559  1.65473498  1.70758004]\n",
      " [ 1.32268328  0.73165994  0.92483198  1.21854016]\n",
      " [-1.03933618  1.87014204  1.57838469  0.3254195 ]\n",
      " [-0.11458039 -0.87295823 -0.07964704  0.15306435]\n",
      " [-0.37160656 -0.54076167  0.07139739 -1.03761697]]\n"
     ]
    }
   ],
   "source": [
    "# Pandas另一个关键的数据结构为DataFrame，表示的是二维数组。\n",
    "# DataFrame中的数据实际是用Numpy的array对象来保存的\n",
    "import numpy as np\n",
    "df = pd.DataFrame(np.random.randn(6,4), columns=list('ABCD'))\n",
    "print(df)\n",
    "print(df.values) # 查看原始数据"
   ],
   "metadata": {
    "collapsed": false,
    "ExecuteTime": {
     "end_time": "2024-01-17T17:26:13.302124Z",
     "start_time": "2024-01-17T17:26:13.299858Z"
    }
   },
   "id": "a5cb08dc69fe8361"
  },
  {
   "cell_type": "code",
   "execution_count": 9,
   "outputs": [
    {
     "name": "stdout",
     "output_type": "stream",
     "text": [
      "A    1.229850\n",
      "B    0.432930\n",
      "C    1.191666\n",
      "D   -0.956145\n",
      "Name: 0, dtype: float64\n",
      "0    1.229850\n",
      "1   -0.045065\n",
      "2    1.322683\n",
      "3   -1.039336\n",
      "4   -0.114580\n",
      "5   -0.371607\n",
      "Name: A, dtype: float64\n"
     ]
    }
   ],
   "source": [
    "print(df.iloc[0])  #行索引\n",
    "print(df.A)  #列索引"
   ],
   "metadata": {
    "collapsed": false,
    "ExecuteTime": {
     "end_time": "2024-01-17T17:34:26.969027Z",
     "start_time": "2024-01-17T17:34:26.966866Z"
    }
   },
   "id": "da10ef7a0a3a4b65"
  },
  {
   "cell_type": "code",
   "execution_count": null,
   "outputs": [],
   "source": [],
   "metadata": {
    "collapsed": false
   },
   "id": "5bd4a798b6130dd2"
  }
 ],
 "metadata": {
  "kernelspec": {
   "display_name": "Python 3",
   "language": "python",
   "name": "python3"
  },
  "language_info": {
   "codemirror_mode": {
    "name": "ipython",
    "version": 2
   },
   "file_extension": ".py",
   "mimetype": "text/x-python",
   "name": "python",
   "nbconvert_exporter": "python",
   "pygments_lexer": "ipython2",
   "version": "2.7.6"
  }
 },
 "nbformat": 4,
 "nbformat_minor": 5
}
