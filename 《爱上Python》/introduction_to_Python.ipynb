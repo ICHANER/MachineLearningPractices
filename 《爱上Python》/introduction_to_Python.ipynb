{
 "cells": [
  {
   "cell_type": "markdown",
   "source": [
    "# 此文件内容参照《爱上Python——一日精通Python编程》一书"
   ],
   "metadata": {
    "collapsed": false
   },
   "id": "2c7301c1f8aae6bb"
  },
  {
   "cell_type": "code",
   "execution_count": 106,
   "outputs": [],
   "source": [
    "# 数据类型\n",
    "\n",
    "#整型\n",
    "userAge = 20\n",
    "mobileNumber = 13353324892\n",
    "\n",
    "#浮点型\n",
    "userHeight = 1.87\n",
    "userWeight = 67.2\n",
    "\n",
    "#字符串\n",
    "userName = 'Peter'\n",
    "userSpouseName = 'Janet'"
   ],
   "metadata": {
    "collapsed": false,
    "ExecuteTime": {
     "end_time": "2024-01-25T17:42:05.368703Z",
     "start_time": "2024-01-25T17:42:05.311732Z"
    }
   },
   "id": "51671150d6a77e3f"
  },
  {
   "cell_type": "code",
   "execution_count": 107,
   "id": "initial_id",
   "metadata": {
    "collapsed": true,
    "ExecuteTime": {
     "end_time": "2024-01-25T17:42:05.373664Z",
     "start_time": "2024-01-25T17:42:05.313591Z"
    }
   },
   "outputs": [
    {
     "name": "stdout",
     "output_type": "stream",
     "text": [
      "PETER\n",
      "peter\n"
     ]
    }
   ],
   "source": [
    "#内建字符串函数\n",
    "print(userName.upper())\n",
    "print(userName.lower())"
   ]
  },
  {
   "cell_type": "code",
   "execution_count": 108,
   "outputs": [
    {
     "name": "stdout",
     "output_type": "stream",
     "text": [
      "Hello,Jane. How are you today?\n",
      "The price of this Apple laptop is 1299 USD and the exchange rate is 1.24 USD to 1 EUR\n",
      "Hello, Tom. How is it going? Are you in class 6\n"
     ]
    }
   ],
   "source": [
    "# 使用 % 操作符格式化字符串\n",
    "# \"string to be formatted\" %(values or varibles to be inserted into string, separated by commas)\n",
    "strToBePrinted = \"Hello,%s. How are you today?\" %('Jane')\n",
    "print(strToBePrinted)\n",
    "# %4.2f 代表总长度为4、有2个小数位的浮点数\n",
    "\n",
    "# 使用 format() 格式化字符串\n",
    "message = 'The price of this {0:s} laptop is {1:d} USD and the exchange rate is {2:4.2f} USD to 1 EUR'.format('Apple', 1299, 1.235235245)\n",
    "print(message)\n",
    "\n",
    "message1 = 'Hello, {}. How is it going? Are you in class {}'.format('Tom',6)\n",
    "print(message1)"
   ],
   "metadata": {
    "collapsed": false,
    "ExecuteTime": {
     "end_time": "2024-01-25T17:42:05.374517Z",
     "start_time": "2024-01-25T17:42:05.315863Z"
    }
   },
   "id": "87740d803e0a70ec"
  },
  {
   "cell_type": "code",
   "execution_count": 109,
   "outputs": [
    {
     "name": "stdout",
     "output_type": "stream",
     "text": [
      "2.0\n",
      "2.0\n",
      "2\n",
      "2\n",
      "2\n",
      "2.2\n"
     ]
    }
   ],
   "source": [
    "# 类型转换 int() float() str()\n",
    "print(float(2))\n",
    "print(float(\"2\"))\n",
    "\n",
    "print(int(\"2\"))\n",
    "print(int(2.1))\n",
    "\n",
    "print(str(2))\n",
    "print(str(2.2))"
   ],
   "metadata": {
    "collapsed": false,
    "ExecuteTime": {
     "end_time": "2024-01-25T17:42:05.390207Z",
     "start_time": "2024-01-25T17:42:05.318490Z"
    }
   },
   "id": "f95238310e6e2002"
  },
  {
   "cell_type": "code",
   "execution_count": 110,
   "outputs": [
    {
     "name": "stdout",
     "output_type": "stream",
     "text": [
      "21 25\n",
      "25\n",
      "[22, 23, 24]\n",
      "[22, 24]\n",
      "[21, 22, 23, 24, 25, 100, 'Hello']\n",
      "[21, 22, 23, 24, 25, 100]\n"
     ]
    }
   ],
   "source": [
    "# 列表\n",
    "userAgeList = [21, 22, 23, 24, 25]\n",
    "print(userAgeList[0],userAgeList[4])\n",
    "\n",
    "userAgeSet = {21, 22, 23, 24, 25}\n",
    "# print(userAgeSet[0]) Set集合 不可用下标访问\n",
    "\n",
    "# 列表List有序，允许重复元素，用[]表示；集合Set无序，不允许重复元素，用{}表示\n",
    "# 若表示数组，一般用numpy\n",
    "\n",
    "# 倒序访问\n",
    "print(userAgeList[-1])\n",
    "\n",
    "# 切片*\n",
    "print(userAgeList[1:4])   # 切取[1,4)，即[22,25)\n",
    "print(userAgeList[1:4:2])  # 切取[1,4)，但步长为2，切取 1,3\n",
    "\n",
    "# 添加元素（末尾加）\n",
    "userAgeList.append(100)\n",
    "userAgeList.append('Hello')  # 元素可以不同\n",
    "print(userAgeList)\n",
    "\n",
    "del userAgeList[6]  # 删除第6个\n",
    "print(userAgeList)"
   ],
   "metadata": {
    "collapsed": false,
    "ExecuteTime": {
     "end_time": "2024-01-25T17:42:05.390679Z",
     "start_time": "2024-01-25T17:42:05.322988Z"
    }
   },
   "id": "594dcdb5a0c6b982"
  },
  {
   "cell_type": "code",
   "execution_count": 111,
   "outputs": [
    {
     "name": "stdout",
     "output_type": "stream",
     "text": [
      "Feb\n"
     ]
    }
   ],
   "source": [
    "# 元组\n",
    "# 类似于列表，但初始值不可改变，用圆括号表示\n",
    "monthsOfYear = ('Jan', 'Feb', 'Mar', 'Apr', \n",
    "                'May', 'Jun', 'Jul', 'Aug', \n",
    "                'Sep', 'Oct', 'Nov', 'Dec')\n",
    "# monthsOfYear[1] = 'AAA' 报错：TypeError: 'tuple' object does not support item assignment\n",
    "print(monthsOfYear[1])"
   ],
   "metadata": {
    "collapsed": false,
    "ExecuteTime": {
     "end_time": "2024-01-25T17:42:05.390749Z",
     "start_time": "2024-01-25T17:42:05.325927Z"
    }
   },
   "id": "fbb7b47e69de89c1"
  },
  {
   "cell_type": "code",
   "execution_count": 112,
   "outputs": [
    {
     "name": "stdout",
     "output_type": "stream",
     "text": [
      "38\n",
      "51\n",
      "{'Peter': 38, 'John': 51, 'Alex': 13}\n",
      "{'Peter': 38, 'John': 30, 'Alex': 13}\n",
      "{}\n",
      "{'Tom': 100}\n",
      "{}\n"
     ]
    }
   ],
   "source": [
    "# 字典\n",
    "# 即相关数据对的一个集合\n",
    "dictionaryName = {\"Peter\":38, \"John\":51, \"Alex\":13}\n",
    "dictionaryName2 = dict(Peter=38, John=51, Alex=13)\n",
    "                        #以上两种写法均可\n",
    "    # 访问数据\n",
    "print(dictionaryName['Peter'])\n",
    "print(dictionaryName2['John'])\n",
    "    # 修改数据\n",
    "print(dictionaryName)\n",
    "dictionaryName['John'] = 30 # 修改数据\n",
    "print(dictionaryName)\n",
    "\n",
    "# 声明一个空字典\n",
    "dicName = {}\n",
    "print(dicName)\n",
    "    # 添加元素\n",
    "dicName['Tom'] = 100\n",
    "print(dicName)\n",
    "    # 删除元素\n",
    "del dicName[\"Tom\"]\n",
    "print(dicName)"
   ],
   "metadata": {
    "collapsed": false,
    "ExecuteTime": {
     "end_time": "2024-01-25T17:42:05.390827Z",
     "start_time": "2024-01-25T17:42:05.328905Z"
    }
   },
   "id": "a86c4d91ad718941"
  },
  {
   "cell_type": "markdown",
   "source": [
    "# 程序可交互"
   ],
   "metadata": {
    "collapsed": false
   },
   "id": "af4a252c4d6a2e5a"
  },
  {
   "cell_type": "code",
   "execution_count": 113,
   "outputs": [
    {
     "name": "stdout",
     "output_type": "stream",
     "text": [
      "Tom\n"
     ]
    }
   ],
   "source": [
    "# Input()\n",
    "myName = input(\"Please enter your name: \")\n",
    "print(myName)"
   ],
   "metadata": {
    "collapsed": false,
    "ExecuteTime": {
     "end_time": "2024-01-25T17:42:11.289841Z",
     "start_time": "2024-01-25T17:42:05.330978Z"
    }
   },
   "id": "951afddece73b31b"
  },
  {
   "cell_type": "code",
   "execution_count": 114,
   "outputs": [
    {
     "name": "stdout",
     "output_type": "stream",
     "text": [
      "你好啊\n",
      "我叫Tom\n",
      "今年18岁啦\n"
     ]
    }
   ],
   "source": [
    "# 三引号 可以用于将信息拓展到多行\n",
    "print('''你好啊\n",
    "我叫Tom\n",
    "今年18岁啦''')"
   ],
   "metadata": {
    "collapsed": false,
    "ExecuteTime": {
     "end_time": "2024-01-25T17:42:11.289993Z",
     "start_time": "2024-01-25T17:42:11.233773Z"
    }
   },
   "id": "36cdc588e5868b29"
  },
  {
   "cell_type": "code",
   "execution_count": 115,
   "outputs": [
    {
     "name": "stdout",
     "output_type": "stream",
     "text": [
      "Hello\n",
      "World \\ \n",
      "I'm Tom \"Okay\"\n"
     ]
    }
   ],
   "source": [
    "# 转义符号\n",
    "print(\"Hello\\nWorld \\\\ \\nI\\'m Tom \\\"Okay\\\"\")"
   ],
   "metadata": {
    "collapsed": false,
    "ExecuteTime": {
     "end_time": "2024-01-25T17:42:11.292691Z",
     "start_time": "2024-01-25T17:42:11.236139Z"
    }
   },
   "id": "6c5b29953dbeae0e"
  },
  {
   "cell_type": "code",
   "execution_count": 116,
   "outputs": [
    {
     "name": "stdout",
     "output_type": "stream",
     "text": [
      "You enter 666, a valid number. Please enter again.\n",
      "This is task A\n"
     ]
    }
   ],
   "source": [
    "# If语句\n",
    "userInput = input('Enter 1 or 2: ')\n",
    "if userInput == \"1\":\n",
    "    print(\"Hello World!\")\n",
    "elif userInput == \"2\":\n",
    "    print(\"I am Tom\")\n",
    "else:\n",
    "    print(\"You enter %s, a valid number. Please enter again.\" %(userInput))\n",
    "\n",
    "# 内联if\n",
    "myInt = 10\n",
    "print(\"This is task A\" if myInt == 10 \n",
    "      else \"This is task B\")"
   ],
   "metadata": {
    "collapsed": false,
    "ExecuteTime": {
     "end_time": "2024-01-25T17:42:13.828281Z",
     "start_time": "2024-01-25T17:42:11.239898Z"
    }
   },
   "id": "37ca8bc6cd7139ea"
  },
  {
   "cell_type": "code",
   "execution_count": 117,
   "outputs": [
    {
     "name": "stdout",
     "output_type": "stream",
     "text": [
      "hamsters\n",
      "cats\n",
      "rabbits\n",
      "dogs\n"
     ]
    }
   ],
   "source": [
    "# for循环\n",
    "pets = {'cats', 'dogs', 'rabbits', 'hamsters'}\n",
    "for myPets in pets:\n",
    "    print(myPets)"
   ],
   "metadata": {
    "collapsed": false,
    "ExecuteTime": {
     "end_time": "2024-01-25T17:42:13.828482Z",
     "start_time": "2024-01-25T17:42:13.791649Z"
    }
   },
   "id": "c3b860337719a22f"
  },
  {
   "cell_type": "code",
   "execution_count": 118,
   "outputs": [
    {
     "name": "stdout",
     "output_type": "stream",
     "text": [
      "0 hamsters\n",
      "1 cats\n",
      "2 rabbits\n",
      "3 dogs\n"
     ]
    }
   ],
   "source": [
    "#显示索引\n",
    "pets = {'cats', 'dogs', 'rabbits', 'hamsters'}\n",
    "for index, myPets in enumerate(pets):\n",
    "    print(index, myPets)"
   ],
   "metadata": {
    "collapsed": false,
    "ExecuteTime": {
     "end_time": "2024-01-25T17:42:13.828865Z",
     "start_time": "2024-01-25T17:42:13.795287Z"
    }
   },
   "id": "212e30813fe4b07d"
  },
  {
   "cell_type": "code",
   "execution_count": 119,
   "outputs": [
    {
     "name": "stdout",
     "output_type": "stream",
     "text": [
      "H\n",
      "e\n",
      "l\n",
      "l\n",
      "o\n"
     ]
    }
   ],
   "source": [
    "message = \"Hello\"\n",
    "for i in message:\n",
    "    print (i)"
   ],
   "metadata": {
    "collapsed": false,
    "ExecuteTime": {
     "end_time": "2024-01-25T17:42:13.836118Z",
     "start_time": "2024-01-25T17:42:13.800120Z"
    }
   },
   "id": "b9d84114f60c1366"
  },
  {
   "cell_type": "code",
   "execution_count": 120,
   "outputs": [
    {
     "name": "stdout",
     "output_type": "stream",
     "text": [
      "0\n",
      "1\n",
      "2\n",
      "3\n",
      "4\n"
     ]
    }
   ],
   "source": [
    "for i in range(5):\n",
    "    print(i)"
   ],
   "metadata": {
    "collapsed": false,
    "ExecuteTime": {
     "end_time": "2024-01-25T17:42:13.836491Z",
     "start_time": "2024-01-25T17:42:13.802469Z"
    }
   },
   "id": "23aecc95f61c37c7"
  },
  {
   "cell_type": "code",
   "execution_count": 121,
   "outputs": [
    {
     "name": "stdout",
     "output_type": "stream",
     "text": [
      "Count =  5\n",
      "Count =  4\n",
      "Count =  3\n",
      "Count =  2\n",
      "Count =  1\n"
     ]
    }
   ],
   "source": [
    "# while循环\n",
    "count = 5\n",
    "while count > 0:\n",
    "    print(\"Count = \", count)\n",
    "    count = count - 1"
   ],
   "metadata": {
    "collapsed": false,
    "ExecuteTime": {
     "end_time": "2024-01-25T17:42:13.836669Z",
     "start_time": "2024-01-25T17:42:13.808187Z"
    }
   },
   "id": "bc71d23a75fedf4b"
  },
  {
   "cell_type": "code",
   "execution_count": 122,
   "outputs": [
    {
     "name": "stdout",
     "output_type": "stream",
     "text": [
      "i =  0 , j =  2\n",
      "i =  1 , j =  4\n",
      "i =  2 , j =  6\n"
     ]
    }
   ],
   "source": [
    "# break中断\n",
    "j = 0\n",
    "for i in range(5):\n",
    "    j = j + 2\n",
    "    print('i = ', i, ', j = ', j)\n",
    "    if j==6:\n",
    "        break"
   ],
   "metadata": {
    "collapsed": false,
    "ExecuteTime": {
     "end_time": "2024-01-25T17:42:13.836797Z",
     "start_time": "2024-01-25T17:42:13.810598Z"
    }
   },
   "id": "ab7f760a2a73cd3c"
  },
  {
   "cell_type": "code",
   "execution_count": 123,
   "outputs": [
    {
     "name": "stdout",
     "output_type": "stream",
     "text": [
      "\n",
      "i =  0 j =  2\n",
      "I will be skipped over if j=6\n",
      "\n",
      "i =  1 j =  4\n",
      "I will be skipped over if j=6\n",
      "\n",
      "i =  2 j =  6\n",
      "\n",
      "i =  3 j =  8\n",
      "I will be skipped over if j=6\n",
      "\n",
      "i =  4 j =  10\n",
      "I will be skipped over if j=6\n"
     ]
    }
   ],
   "source": [
    "# continue\n",
    "j = 0\n",
    "for i in range(5):\n",
    "    j = j + 2\n",
    "    print('\\ni = ', i, 'j = ', j)\n",
    "    if j==6:\n",
    "        continue\n",
    "    print('I will be skipped over if j=6')"
   ],
   "metadata": {
    "collapsed": false,
    "ExecuteTime": {
     "end_time": "2024-01-25T17:42:13.836881Z",
     "start_time": "2024-01-25T17:42:13.811904Z"
    }
   },
   "id": "79c4682970e6c3d1"
  },
  {
   "cell_type": "code",
   "execution_count": 124,
   "outputs": [
    {
     "name": "stdout",
     "output_type": "stream",
     "text": [
      "An error occurred\n"
     ]
    }
   ],
   "source": [
    "# Try - Except\n",
    "# 思想： try: do sth  except: do sth else when an error occurs\n",
    "try:\n",
    "    answer = 12/0\n",
    "    print(answer)\n",
    "except:\n",
    "    print(\"An error occurred\")"
   ],
   "metadata": {
    "collapsed": false,
    "ExecuteTime": {
     "end_time": "2024-01-25T17:42:13.836950Z",
     "start_time": "2024-01-25T17:42:13.815144Z"
    }
   },
   "id": "bd9fd0b9274dbc85"
  },
  {
   "cell_type": "code",
   "execution_count": 125,
   "outputs": [
    {
     "name": "stdout",
     "output_type": "stream",
     "text": [
      "An error occurred:  division by zero\n"
     ]
    }
   ],
   "source": [
    "try:\n",
    "    answer = 12/0\n",
    "    print(answer)\n",
    "except Exception as e:\n",
    "    print(\"An error occurred: \", e)"
   ],
   "metadata": {
    "collapsed": false,
    "ExecuteTime": {
     "end_time": "2024-01-25T17:42:13.837021Z",
     "start_time": "2024-01-25T17:42:13.817604Z"
    }
   },
   "id": "d686a2002b57cb9c"
  },
  {
   "cell_type": "code",
   "execution_count": 127,
   "outputs": [
    {
     "name": "stdout",
     "output_type": "stream",
     "text": [
      "Hello\n"
     ]
    }
   ],
   "source": [
    "# 函数\n",
    "def myFunction():\n",
    "    print(\"Hello\")\n",
    "\n",
    "myFunction()"
   ],
   "metadata": {
    "collapsed": false,
    "ExecuteTime": {
     "end_time": "2024-01-25T17:43:19.725833Z",
     "start_time": "2024-01-25T17:43:19.711461Z"
    }
   },
   "id": "b5e1ac33af839d3f"
  },
  {
   "cell_type": "code",
   "execution_count": 129,
   "outputs": [
    {
     "name": "stdout",
     "output_type": "stream",
     "text": [
      "8\n"
     ]
    }
   ],
   "source": [
    "# 模块的引入\n",
    "import random #引入random模块\n",
    "import random as r #设别名\n",
    "print(r.randrange(1,10))   # 随机选取数\n",
    "from random import randrange  #从random模块中引入特定函数\n",
    "\n",
    "# 模块的创建\n",
    "#仅需要把文件以.py的扩展名，并放入想要从中引入的Python文件的同一个文件夹即可"
   ],
   "metadata": {
    "collapsed": false,
    "ExecuteTime": {
     "end_time": "2024-01-25T17:49:31.071670Z",
     "start_time": "2024-01-25T17:49:31.059685Z"
    }
   },
   "id": "e92be1c39d912aa"
  },
  {
   "cell_type": "code",
   "execution_count": 138,
   "outputs": [
    {
     "name": "stdout",
     "output_type": "stream",
     "text": [
      "Hello\n",
      "\n",
      "I am Tom\n"
     ]
    }
   ],
   "source": [
    "# 处理文件\n",
    "\n",
    "# 1、打开并读取文本文件\n",
    "f = open('./data/myfile.txt','r') # r仅可读，w仅可写，a添加，r+读写\n",
    "firstLine = f.readline()\n",
    "secondLine = f.readline()\n",
    "print(firstLine)\n",
    "print(secondLine)\n",
    "f.close()"
   ],
   "metadata": {
    "collapsed": false,
    "ExecuteTime": {
     "end_time": "2024-01-25T17:53:07.512518Z",
     "start_time": "2024-01-25T17:53:07.509125Z"
    }
   },
   "id": "474ce1adc276c6d7"
  },
  {
   "cell_type": "code",
   "execution_count": 141,
   "outputs": [
    {
     "name": "stdout",
     "output_type": "stream",
     "text": [
      "Hello\n",
      "I am Tom"
     ]
    }
   ],
   "source": [
    "print(firstLine,end='')  # 加入end='' 删除换行符\n",
    "print(secondLine,end='')"
   ],
   "metadata": {
    "collapsed": false,
    "ExecuteTime": {
     "end_time": "2024-01-25T17:53:58.150982Z",
     "start_time": "2024-01-25T17:53:58.147673Z"
    }
   },
   "id": "1b80d1e951644819"
  },
  {
   "cell_type": "code",
   "execution_count": 144,
   "outputs": [
    {
     "name": "stdout",
     "output_type": "stream",
     "text": [
      "Hello\n",
      "I am Tom\n",
      "How are you today?\n",
      "I'm OK, and you?\n",
      "I'm fine, thank you!\n",
      "Haha!"
     ]
    }
   ],
   "source": [
    "f =open('data/myfile.txt','r')\n",
    "for line in f:\n",
    "    print(line,end='')\n",
    "f.close()"
   ],
   "metadata": {
    "collapsed": false,
    "ExecuteTime": {
     "end_time": "2024-01-25T17:56:58.784453Z",
     "start_time": "2024-01-25T17:56:58.780885Z"
    }
   },
   "id": "1e05616170f5a209"
  },
  {
   "cell_type": "code",
   "execution_count": 147,
   "outputs": [
    {
     "name": "stdout",
     "output_type": "stream",
     "text": [
      "Hello\n",
      "I am Tom\n",
      "How are you today?\n",
      "I'm OK, and you?\n",
      "I'm fine, thank you!\n",
      "Haha!\n",
      "This sentence will be appended.\n",
      "Python is fun!\n",
      "This sentence will be appended.\n",
      "Python is fun!\n",
      "This sentence will be appended.\n",
      "Python is fun!"
     ]
    }
   ],
   "source": [
    "# 写入文本\n",
    "f = open('./data/myfile.txt','a')\n",
    "f.write('\\nThis sentence will be appended.')\n",
    "f.write('\\nPython is fun!')\n",
    "f.close()\n",
    "\n",
    "f =open('data/myfile.txt','r')\n",
    "for line in f:\n",
    "    print(line,end='')\n",
    "f.close()"
   ],
   "metadata": {
    "collapsed": false,
    "ExecuteTime": {
     "end_time": "2024-01-25T17:58:47.912835Z",
     "start_time": "2024-01-25T17:58:47.909349Z"
    }
   },
   "id": "2dcced7dcb4fcb64"
  },
  {
   "cell_type": "code",
   "execution_count": 160,
   "outputs": [
    {
     "name": "stdout",
     "output_type": "stream",
     "text": [
      "Hello\n",
      "I am\n",
      " Tom\n",
      "How a\n",
      "re you tod\n",
      "ay?\n",
      "I'm OK\n",
      ", and you?\n",
      "\n",
      "I'm fine,\n",
      " thank you\n",
      "!\n",
      "Haha!\n",
      "Th\n",
      "is sentenc\n",
      "e will be \n",
      "appended.\n",
      "\n",
      "Python is \n",
      "fun!\n",
      "This \n",
      "sentence w\n",
      "ill be app\n",
      "ended.\n",
      "Pyt\n",
      "hon is fun\n",
      "!\n",
      "This sen\n",
      "tence will\n",
      " be append\n",
      "ed.\n",
      "Python\n",
      " is fun!\n"
     ]
    }
   ],
   "source": [
    "# 通过缓冲大小打开并读取文本文件\n",
    "inputFile = open('./data/myfile.txt','r')  #若读写二进制文件，此处需写为rb/wb等\n",
    "outputFile = open('./data/myoutputfile.txt','w')\n",
    "msg = inputFile.read(10)\n",
    "while len(msg):\n",
    "    outputFile.write(msg+'\\n')  # 写入input备份\n",
    "    msg = inputFile.read(10)\n",
    "inputFile.close()\n",
    "outputFile.close()\n",
    "\n",
    "f =open('data/myoutputfile.txt','r')\n",
    "for line in f:\n",
    "    print(line,end='')\n",
    "f.close()"
   ],
   "metadata": {
    "collapsed": false,
    "ExecuteTime": {
     "end_time": "2024-01-25T18:09:04.257926Z",
     "start_time": "2024-01-25T18:09:04.254547Z"
    }
   },
   "id": "fd6eb839a4129740"
  },
  {
   "cell_type": "code",
   "execution_count": 162,
   "outputs": [],
   "source": [
    "# 删除文件\n",
    "from os import rename\n",
    "rename('./data/myoutputfile.txt','./data/out.txt')"
   ],
   "metadata": {
    "collapsed": false,
    "ExecuteTime": {
     "end_time": "2024-01-25T18:11:31.999285Z",
     "start_time": "2024-01-25T18:11:31.989336Z"
    }
   },
   "id": "6072ed25b0c2de1e"
  },
  {
   "cell_type": "code",
   "execution_count": 163,
   "outputs": [],
   "source": [
    "# 重命名文件\n",
    "from os import remove\n",
    "remove('./data/out.txt')"
   ],
   "metadata": {
    "collapsed": false,
    "ExecuteTime": {
     "end_time": "2024-01-25T18:12:35.072178Z",
     "start_time": "2024-01-25T18:12:35.049341Z"
    }
   },
   "id": "a11329c4fddd899d"
  }
 ],
 "metadata": {
  "kernelspec": {
   "display_name": "Python 3",
   "language": "python",
   "name": "python3"
  },
  "language_info": {
   "codemirror_mode": {
    "name": "ipython",
    "version": 2
   },
   "file_extension": ".py",
   "mimetype": "text/x-python",
   "name": "python",
   "nbconvert_exporter": "python",
   "pygments_lexer": "ipython2",
   "version": "2.7.6"
  }
 },
 "nbformat": 4,
 "nbformat_minor": 5
}
